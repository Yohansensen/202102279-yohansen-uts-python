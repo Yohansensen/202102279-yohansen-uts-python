{
 "cells": [
  {
   "cell_type": "code",
   "execution_count": 3,
   "id": "7cb08ffa",
   "metadata": {},
   "outputs": [
    {
     "name": "stdout",
     "output_type": "stream",
     "text": [
      "~~~~~~~~~~~~~~~~~~~~~~~~~~~~~~~~~~~~~~~~~~~~~~~~~~~~~~~~~~~~~~\n",
      "     CURRICULUM VITAE \n",
      "Nama               : YOHANSEN\n",
      "Tempat            : PONTIANAK,15-01-2002\n",
      "JenisKelamin      : Laki-Laki\n",
      "Agama             : ISLAM\n",
      "Pekerjaan terakhir: PELAJAR/MAHASISWA\n",
      "Kewarganegaraan   : WNI\n",
      "Nomor             :+ 62606033067\n",
      "Alamat Email      : hansen8877@gmail.com\n",
      "________________________________________________________________\n",
      "       \n",
      "                   PENDIDIKAN FORMAL     \n",
      "2019-2021:Program Studi Teknik Informati,STIMIK PONTIANAK\n",
      "2018-2015:SMA SANTU PETRUS\n",
      "2015-2012:SD NEGERI 12\n",
      "________________________________________________________________\n",
      "                   PENDIDIKAN NON-FORMAL     \n",
      "2019:Juara 3 basket petrus cup2\n",
      "2018:olimpiade fisika\n",
      "2018:olimpiade mtk\n",
      "2017:olimpiade biologi\n",
      "________________________________________________________________\n",
      "                   Riwayat Organisasi     \n",
      "2019-2021:Ketua Rt 014\n",
      "2015-2019:Ketua osis sma santu petrus\n",
      "2018:organisasi kita bisa\n",
      "2017:panitia mpanjat pinang\n",
      "________________________________________________________________\n",
      "                   Prestasi    \n",
      "Prestasi saya adalah mendapatkan juara basket di tingkat SMA dan \n",
      "telah banyak melakukan organisasi yang penting\n",
      "\n",
      "________________________________________________________________\n"
     ]
    }
   ],
   "source": [
    "Nama=\"YOHANSEN\"\n",
    "Tempat=\"PONTIANAK,15-01-2002\" \n",
    "Jeniskelamin=\"Laki-Laki\"\n",
    "Agama=\"ISLAM\"\n",
    "Pekerjaan=\"PELAJAR/MAHASISWA\"\n",
    "Kewarganegaraan=\"WNI\"\n",
    "Nomor=62606033067\n",
    "Alamat=\"hansen8877@gmail.com\"\n",
    "Pendidikan= \"\"\"\n",
    "2019-2021:Program Studi Teknik Informati,STIMIK PONTIANAK\n",
    "2018-2015:SMA SANTU PETRUS\n",
    "2015-2012:SD NEGERI 12\"\"\"\n",
    "\n",
    "non= \"\"\"\n",
    "2019:Juara 3 basket petrus cup2\n",
    "2018:olimpiade fisika\n",
    "2018:olimpiade mtk\n",
    "2017:olimpiade biologi\"\"\"\n",
    "riwayat= \"\"\"\n",
    "2019-2021:Ketua Rt 014\n",
    "2015-2019:Ketua osis sma santu petrus\n",
    "2018:organisasi kita bisa\n",
    "2017:panitia mpanjat pinang\"\"\"\n",
    "\n",
    "prestasi=\"\"\"\n",
    "Prestasi saya adalah mendapatkan juara basket di tingkat SMA dan \n",
    "telah banyak melakukan organisasi yang penting\n",
    "\"\"\"\n",
    "\n",
    "#cetak\n",
    "print (\"~~~~~~~~~~~~~~~~~~~~~~~~~~~~~~~~~~~~~~~~~~~~~~~~~~~~~~~~~~~~~~\")\n",
    "print (\"     CURRICULUM VITAE \")\n",
    "print(\"Nama               :\",Nama)\n",
    "print (\"Tempat            :\",Tempat)\n",
    "print (\"JenisKelamin      :\",Jeniskelamin)\n",
    "print (\"Agama             :\",Agama)\n",
    "print (\"Pekerjaan terakhir:\",Pekerjaan)\n",
    "print (\"Kewarganegaraan   :\",Kewarganegaraan)\n",
    "print (\"Nomor             :+\",Nomor)\n",
    "print (\"Alamat Email      :\",Alamat)\n",
    "print (\"________________________________________________________________\")\n",
    "print (\"       \"     )\n",
    "print (\"                   PENDIDIKAN FORMAL    \",Pendidikan)\n",
    "print (\"________________________________________________________________\")\n",
    "print (\"                   PENDIDIKAN NON-FORMAL    \",non)\n",
    "print (\"________________________________________________________________\")\n",
    "print (\"                   Riwayat Organisasi    \",riwayat)\n",
    "print (\"________________________________________________________________\")\n",
    "print (\"                   Prestasi   \",prestasi)\n",
    "print (\"________________________________________________________________\")\n"
   ]
  },
  {
   "cell_type": "code",
   "execution_count": 23,
   "id": "251f20e5",
   "metadata": {},
   "outputs": [
    {
     "name": "stdout",
     "output_type": "stream",
     "text": [
      "--Program Menghitung Luas Persegi Panjang--\n",
      "panjang:20\n",
      "lebar:2\n",
      "________________________________________\n",
      "Persegi panjang tersebuat adalah: 40\n",
      "_________________________________________________________\n"
     ]
    }
   ],
   "source": [
    "print (\"--Program Menghitung Luas Persegi Panjang--\")\n",
    "panjang = int(input(\"panjang:\"))\n",
    "lebar = int(input(\"lebar:\"))\n",
    "\n",
    "luas = panjang*lebar\n",
    "#cetak\n",
    "print (\"________________________________________\")\n",
    "print (\"Persegi panjang tersebuat adalah:\",luas)\n",
    "print (\"________________________________________\")"
   ]
  },
  {
   "cell_type": "code",
   "execution_count": 24,
   "id": "ece70714",
   "metadata": {},
   "outputs": [
    {
     "name": "stdout",
     "output_type": "stream",
     "text": [
      "--Program konversi suhu dari celcius, Reamur, dan farenheit--\n",
      "Masukkan suhu yang ingin di hitung:20\n",
      "_________________________________________________________\n",
      "celcius: 20\n",
      "reamur: 16.0\n",
      "fahrenheit: 68.0\n",
      "_________________________________________________________\n"
     ]
    }
   ],
   "source": [
    "print (\"--Program konversi suhu dari celcius, Reamur, dan farenheit--\")\n",
    "celcius = int(input(\"Masukkan suhu yang ingin di hitung:\"))\n",
    "reamur =celcius*0.8\n",
    "fahrenheit = celcius*1.8 + 32\n",
    "#cetak\n",
    "\n",
    "print (\"_________________________________________________________\")\n",
    "print (\"celcius:\",celcius)\n",
    "print (\"reamur:\",reamur)\n",
    "print (\"fahrenheit:\",fahrenheit)\n",
    "print (\"_________________________________________________________\")"
   ]
  },
  {
   "cell_type": "code",
   "execution_count": 26,
   "id": "ea6066d8",
   "metadata": {},
   "outputs": [
    {
     "name": "stdout",
     "output_type": "stream",
     "text": [
      "--Program konversi detik ke hari ,jam,menit,detik--\n",
      "Masukkan detik yang ingin di hitung?77\n",
      "________________________________________________________\n",
      "hari: 0.0008912037037037037\n",
      "jam: 0.021388888888888888\n",
      "menit: 1.2833333333333334\n",
      "detik: 17\n",
      "________________________________________________________\n"
     ]
    }
   ],
   "source": [
    "print (\"--Program konversi detik ke hari ,jam,menit,detik--\")\n",
    "detik = int(input(\"Masukkan detik yang ingin di hitung:\"))\n",
    "hari = detik/86400\n",
    "temp1 =detik%86400\n",
    "jam =temp1/3600\n",
    "temp2=temp1%3600\n",
    "menit=temp2/60\n",
    "detik=temp2%60\n",
    "#cetak\n",
    "print (\"________________________________________________________\")\n",
    "print (\"hari:\",hari)\n",
    "print (\"jam:\",jam)\n",
    "print (\"menit:\",menit)\n",
    "print (\"detik:\",detik)\n",
    "print (\"________________________________________________________\")"
   ]
  },
  {
   "cell_type": "code",
   "execution_count": 27,
   "id": "5c190d0a",
   "metadata": {},
   "outputs": [
    {
     "name": "stdout",
     "output_type": "stream",
     "text": [
      "-- program menghitung luas lingkaran --\n",
      "Masukkan jari-jari yang ingin di hitung:4\n",
      "________________________________________\n",
      "luas: 50.285714285714285\n",
      "________________________________________\n"
     ]
    }
   ],
   "source": [
    "print (\"-- program menghitung luas lingkaran --\")\n",
    "jari =int(input(\"Masukkan jari-jari yang ingin di hitung:\"))\n",
    "luas=(22/7)*jari**2\n",
    "#cetak\n",
    "print (\"________________________________________\")\n",
    "print (\"luas:\",luas)\n",
    "print (\"________________________________________\")"
   ]
  },
  {
   "cell_type": "code",
   "execution_count": null,
   "id": "20382d6a",
   "metadata": {},
   "outputs": [],
   "source": []
  }
 ],
 "metadata": {
  "kernelspec": {
   "display_name": "Python 3",
   "language": "python",
   "name": "python3"
  },
  "language_info": {
   "codemirror_mode": {
    "name": "ipython",
    "version": 3
   },
   "file_extension": ".py",
   "mimetype": "text/x-python",
   "name": "python",
   "nbconvert_exporter": "python",
   "pygments_lexer": "ipython3",
   "version": "3.8.8"
  }
 },
 "nbformat": 4,
 "nbformat_minor": 5
}
